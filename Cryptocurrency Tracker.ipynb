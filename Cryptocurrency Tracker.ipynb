{
 "cells": [
  {
   "cell_type": "code",
   "execution_count": null,
   "metadata": {},
   "outputs": [],
   "source": [
    "'''\n",
    "Cryptocurrency Tracker to track the best performing currency\n",
    "'''"
   ]
  },
  {
   "cell_type": "code",
   "execution_count": 4,
   "metadata": {},
   "outputs": [],
   "source": [
    "import pandas as pd  \n",
    "import numpy as np\n",
    "import requests\n",
    "from pprint import pprint"
   ]
  },
  {
   "cell_type": "code",
   "execution_count": 5,
   "metadata": {},
   "outputs": [
    {
     "name": "stdout",
     "output_type": "stream",
     "text": [
      "{'1inch': 'Rank: 77',\n",
      " 'Bao Finance': 'Rank: 261',\n",
      " 'EasyFi': 'Rank: 445',\n",
      " 'PancakeSwap': 'Rank: 101',\n",
      " 'Polkadot': 'Rank: 5',\n",
      " 'Snowswap': 'Rank: 303',\n",
      " 'Unitrade': 'Rank: 546'}\n",
      "Today's Highest Peforming Cryptocurrency: Polkadot\n"
     ]
    }
   ],
   "source": [
    "response = requests.get('https://api.coingecko.com/api/v3/search/trending')\n",
    "data = response.json()\n",
    "market_cap_rank = [] #gets the market cap ranking\n",
    "labels = [] #labels for cryptocurrency\n",
    "for i in range(len(data['coins'])):\n",
    "    market_cap = data['coins'][i]['item']['market_cap_rank'] #retrieve market cap ranking\n",
    "    coin_name = data['coins'][i]['item']['name'] #retrieve name of cryptocurrency\n",
    "    market_cap_rank.append(market_cap) #add to lists\n",
    "    labels.append(coin_name)\n",
    "data_json = {} #json object with currency as key and rank as value\n",
    "for j in range(len(labels)): #create keys and values\n",
    "    data_json[labels[j]] = 'Rank: ' + str(market_cap_rank[j]) \n",
    "pprint (data_json)\n",
    "highest_rank = ''\n",
    "for k in range(len(data['coins'])): #retrieve highest ranking currency\n",
    "    if (data['coins'][k]['item']['market_cap_rank'] == min(market_cap_rank)):\n",
    "        highest_rank = data['coins'][k]['item']['name']\n",
    "print (\"Today's Highest Peforming Cryptocurrency: \" + highest_rank)"
   ]
  }
 ],
 "metadata": {
  "kernelspec": {
   "display_name": "Python 3",
   "language": "python",
   "name": "python3"
  },
  "language_info": {
   "codemirror_mode": {
    "name": "ipython",
    "version": 3
   },
   "file_extension": ".py",
   "mimetype": "text/x-python",
   "name": "python",
   "nbconvert_exporter": "python",
   "pygments_lexer": "ipython3",
   "version": "3.8.3"
  }
 },
 "nbformat": 4,
 "nbformat_minor": 4
}
